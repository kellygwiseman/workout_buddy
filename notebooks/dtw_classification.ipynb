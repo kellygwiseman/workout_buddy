{
 "metadata": {
  "name": "",
  "signature": "sha256:6cb01574b112c9353fd2661a3f0f8cf3405006883d8cc84d2b2489e2e6c976aa"
 },
 "nbformat": 3,
 "nbformat_minor": 0,
 "worksheets": [
  {
   "cells": [
    {
     "cell_type": "code",
     "collapsed": false,
     "input": [
      "import sys\n",
      "sys.path.append(r'../code')\n",
      "from dtw import *\n",
      "import pandas as pd\n",
      "import numpy as np\n",
      "import graphs as gr\n",
      "from filter import filter_features\n",
      "from detect_peaks import count_peaks, average_amplitude, average_duration, calculate_rep_window\n",
      "from matplotlib import rcParams\n",
      "from sklearn.cross_validation import StratifiedShuffleSplit\n",
      "from sklearn import metrics\n",
      "import matplotlib.pyplot as plt\n",
      "%matplotlib inline"
     ],
     "language": "python",
     "metadata": {},
     "outputs": [],
     "prompt_number": 5
    },
    {
     "cell_type": "code",
     "collapsed": false,
     "input": [
      "######## Load data info #########\n",
      "info = pd.read_csv('../data/pushup_info.csv', skipinitialspace=True)\n",
      "info['file'] = info['timestamp'].copy()\n",
      "info['timestamp'] = pd.to_datetime(info['timestamp'],format='%Y-%m-%d_%H-%M-%S')\n",
      "\n",
      "######## Choose Data #########\n",
      "# All\n",
      "#data_processed = info.copy()\n",
      "#data_processed.drop(['phone','comments'], axis=1, inplace=True)\n",
      "\n",
      "# 10 count\n",
      "data_processed = info.copy()\n",
      "cond = data_processed['count'] == 10\n",
      "data_processed = data_processed[cond]\n",
      "data_processed.reset_index(inplace=True)\n",
      "data_processed.drop(['phone','comments','index'], axis=1, inplace=True)\n",
      "\n",
      "# Normal stance samples\n",
      "#data_processed = info.copy()\n",
      "#cond1 = data_processed['stance'] == 'normal'\n",
      "#cond2 = data_processed['hertz'] == 20\n",
      "#data_processed = data_processed[cond1&cond2]\n",
      "#data_processed.reset_index()\n",
      "#data_processed.drop(['phone','comments'], axis=1, inplace=True)\n",
      "\n",
      "# Narrow stance samples\n",
      "#data_processed = info.copy()\n",
      "#cond1 = data_processed['stance'] == 'narrow'\n",
      "#cond2 = data_processed['hertz'] == 20\n",
      "#data_processed = data_processed[cond1&cond2]\n",
      "#data_processed.reset_index()\n",
      "#data_processed.drop(['phone','comments'], axis=1, inplace=True)\n",
      "\n",
      "# add columns\n",
      "data_processed['Pcount'] = 0\n",
      "data_processed['avg_amp'] = 0.0\n",
      "data_processed['avg_dur'] = 0.0\n",
      "label = data_processed.pop('form')\n",
      "label = label.map({'excellent':1, 'good':1,'ok':0})\n",
      "label_arr = np.array(label)\n",
      "data_processed.head(2)"
     ],
     "language": "python",
     "metadata": {},
     "outputs": [
      {
       "html": [
        "<div style=\"max-height:1000px;max-width:1500px;overflow:auto;\">\n",
        "<table border=\"1\" class=\"dataframe\">\n",
        "  <thead>\n",
        "    <tr style=\"text-align: right;\">\n",
        "      <th></th>\n",
        "      <th>user_id</th>\n",
        "      <th>timestamp</th>\n",
        "      <th>name</th>\n",
        "      <th>exercise</th>\n",
        "      <th>hertz</th>\n",
        "      <th>count</th>\n",
        "      <th>stance</th>\n",
        "      <th>height (inches)</th>\n",
        "      <th>female</th>\n",
        "      <th>file</th>\n",
        "      <th>Pcount</th>\n",
        "      <th>avg_amp</th>\n",
        "      <th>avg_dur</th>\n",
        "    </tr>\n",
        "  </thead>\n",
        "  <tbody>\n",
        "    <tr>\n",
        "      <th>0</th>\n",
        "      <td> 1</td>\n",
        "      <td>2015-02-21 12:35:35</td>\n",
        "      <td> Tali</td>\n",
        "      <td> pushup</td>\n",
        "      <td> 20</td>\n",
        "      <td> 10</td>\n",
        "      <td> normal</td>\n",
        "      <td> 66</td>\n",
        "      <td> 1</td>\n",
        "      <td> 2015-02-21_12-35-35</td>\n",
        "      <td> 0</td>\n",
        "      <td> 0</td>\n",
        "      <td> 0</td>\n",
        "    </tr>\n",
        "    <tr>\n",
        "      <th>1</th>\n",
        "      <td> 2</td>\n",
        "      <td>2015-02-21 18:55:31</td>\n",
        "      <td> Jess</td>\n",
        "      <td> pushup</td>\n",
        "      <td> 20</td>\n",
        "      <td> 10</td>\n",
        "      <td> normal</td>\n",
        "      <td> 64</td>\n",
        "      <td> 1</td>\n",
        "      <td> 2015-02-21_18-55-31</td>\n",
        "      <td> 0</td>\n",
        "      <td> 0</td>\n",
        "      <td> 0</td>\n",
        "    </tr>\n",
        "  </tbody>\n",
        "</table>\n",
        "</div>"
       ],
       "metadata": {},
       "output_type": "pyout",
       "prompt_number": 9,
       "text": [
        "   user_id           timestamp  name exercise  hertz  count  stance  \\\n",
        "0        1 2015-02-21 12:35:35  Tali   pushup     20     10  normal   \n",
        "1        2 2015-02-21 18:55:31  Jess   pushup     20     10  normal   \n",
        "\n",
        "   height (inches)  female                 file  Pcount  avg_amp  avg_dur  \n",
        "0               66       1  2015-02-21_12-35-35       0        0        0  \n",
        "1               64       1  2015-02-21_18-55-31       0        0        0  "
       ]
      }
     ],
     "prompt_number": 9
    },
    {
     "cell_type": "heading",
     "level": 1,
     "metadata": {},
     "source": [
      "Batch Process Data"
     ]
    },
    {
     "cell_type": "code",
     "collapsed": false,
     "input": [
      "# Data info\n",
      "numeric_features = ['motionUserAccelerationX', 'motionUserAccelerationY', 'motionUserAccelerationZ',\n",
      "                    'motionRotationRateX', 'motionRotationRateY', 'motionRotationRateZ',\n",
      "                    'accelerometerAccelerationX','accelerometerAccelerationY','accelerometerAccelerationZ',\n",
      "                    'gyroRotationX','gyroRotationY','gyroRotationZ','motionYaw','motionRoll','motionPitch',\n",
      "                    'motionQuaternionX','motionQuaternionY','motionQuaternionZ','motionQuaternionW']\n",
      "\n",
      "# Initialize time series feature lists to use in dynamic time warping calculations\n",
      "pitch_ts = []\n",
      "accY_ts = []\n",
      "accZ_ts = []\n",
      "quatY_ts = []\n",
      "\n",
      "# Iterate through all the samples\n",
      "for i in xrange(data_processed.shape[0]):\n",
      "    df = pd.read_csv('../data/sensor/'+ data_processed.loc[i,'file'] + '.csv')\n",
      "    #print '../data/sensor/'+data_processed.loc[i,'file']+'.csv'\n",
      "    sample = data_processed.loc[i,'name'] + '_' + data_processed.loc[i,'stance']\n",
      "    female = data_processed.loc[i,'female']\n",
      "    freq = float(data_processed.loc[i,'hertz'])\n",
      "    df_num = df[numeric_features]\n",
      "    \n",
      "    ## Plot raw data ##\n",
      "    #gr.plot1_acceleration(df_num, freq, sample)\n",
      "    #gr.plot1_gyro(df_num, freq, sample)\n",
      "    #gr.plot1_motion(df_num, freq, sample)\n",
      "    #gr.plot1_quaternion(df_num, freq, sample)\n",
      "    \n",
      "    ## Filter the data to separate the noise from the pushup signal ##\n",
      "    # Bandpass filter\n",
      "    lowcut = 0.5\n",
      "    highcut = 2.0\n",
      "    order = 1\n",
      "    df_filt = filter_features(df_num, numeric_features, lowcut, highcut, freq, order)\n",
      "    # Plot\n",
      "    #gr.plot_bandpass(df_num, df_filt, freq, lowcut, highcut, sample)\n",
      "    \n",
      "    # Look at feature correlations\n",
      "    rolling_window = 30\n",
      "    correls = pd.rolling_corr(df_filt, rolling_window)\n",
      "    # Plot\n",
      "    #gr.plot_corr(df_filt, correls, freq, sample)\n",
      "    \n",
      "    # Filter based on feature amplitudes\n",
      "    cond1 = np.abs(correls.ix[:, 'accelerometerAccelerationX', 'accelerometerAccelerationY']) > 0.6\n",
      "    cond2 = (np.abs(correls.ix[:, 'motionQuaternionY', 'motionQuaternionW'])+\n",
      "             np.abs(correls.ix[:, 'motionQuaternionX', 'motionQuaternionY'])+\n",
      "             np.abs(correls.ix[:, 'motionQuaternionY', 'motionQuaternionZ'])+\n",
      "             np.abs(correls.ix[:, 'gyroRotationX', 'gyroRotationZ'])) > 2.5\n",
      "    # Trim the beginning 2.5 seconds and last 1 seconds of record\n",
      "    cond3 = df_filt.index > int(freq*2.5) \n",
      "    cond4 = df_filt.index < (df_filt.shape[0] - int(freq)) \n",
      "    \n",
      "    # Initial pushup repetition window\n",
      "    pushup_window = df_filt[cond1 & cond2 & cond3 & cond4].index\n",
      "    \n",
      "    ## Count the number of repetitions ##\n",
      "    # Peak parameters\n",
      "    mph=(0.2 - 0.025*female) # minimum peak height\n",
      "    mpd=0.5*freq + 0.25*freq*female # minimum peak separation distance\n",
      "    feature = 'motionPitch'\n",
      "    peakind, count = count_peaks(df_filt, pushup_window, feature, mph, mpd, freq)\n",
      "    avg_amp = average_amplitude(df_filt, peakind, pushup_window, feature, freq)\n",
      "    avg_dur = average_duration(peakind, count)\n",
      "\n",
      "    # Final tight pushup repetition window\n",
      "    window_ind, window_sec = calculate_rep_window(peakind, pushup_window, avg_dur, freq)\n",
      "\n",
      "    # Plot\n",
      "    #gr.plot_pushups(df_filt, pushup_window, window_ind, peakind, feature, freq, sample)\n",
      "    \n",
      "    # add results to dataframe\n",
      "    data_processed.loc[i, 'Pcount'] = count\n",
      "    data_processed.loc[i, 'avg_amp'] = avg_amp\n",
      "    data_processed.loc[i, 'avg_dur'] = avg_dur\n",
      "    \n",
      "    # add rep time series to feature lists\n",
      "    pushup_data = df_filt.ix[window_ind[0]:window_ind[1]]\n",
      "    pitch_ts.append(pushup_data['motionPitch'].tolist())\n",
      "    accY_ts.append(pushup_data['accelerometerAccelerationY'].tolist())\n",
      "    accZ_ts.append(pushup_data['accelerometerAccelerationZ'].tolist())\n",
      "    quatY_ts.append(pushup_data['motionQuaternionY'].tolist())\n",
      "    \n",
      "# write processed data to csv file\n",
      "data_processed.drop('file',axis=1, inplace=True)\n",
      "data_processed.to_csv('../processed/processed_10pushup.csv')"
     ],
     "language": "python",
     "metadata": {},
     "outputs": [],
     "prompt_number": 11
    },
    {
     "cell_type": "code",
     "collapsed": false,
     "input": [
      "x = quatY_ts\n",
      "length = len(sorted(x,key=len, reverse=True)[0])\n",
      "X=np.array([xi+[0.0]*(length-len(xi)) for xi in x])"
     ],
     "language": "python",
     "metadata": {},
     "outputs": [],
     "prompt_number": 56
    },
    {
     "cell_type": "code",
     "collapsed": false,
     "input": [
      "X.shape\n",
      "X[1]"
     ],
     "language": "python",
     "metadata": {},
     "outputs": [
      {
       "metadata": {},
       "output_type": "pyout",
       "prompt_number": 45,
       "text": [
        "array([  3.34775832e-02,   2.58858306e-02,   1.87916750e-02,\n",
        "         1.33156170e-02,   8.70038301e-03,   3.47996159e-03,\n",
        "        -7.42133146e-04,  -3.07901370e-03,  -6.97435385e-03,\n",
        "        -1.48073546e-02,  -2.50196322e-02,  -3.62826610e-02,\n",
        "        -4.85335380e-02,  -6.16292770e-02,  -6.96645357e-02,\n",
        "        -7.85548517e-02,  -8.72541212e-02,  -1.08154977e-01,\n",
        "        -1.57076647e-01,  -2.48086897e-01,  -3.35344653e-01,\n",
        "        -3.86814212e-01,  -4.36778488e-01,  -4.78574278e-01,\n",
        "        -5.06148230e-01,  -5.17082103e-01,  -5.09054764e-01,\n",
        "        -4.78227745e-01,  -4.23729207e-01,  -3.48456172e-01,\n",
        "        -2.58967397e-01,  -1.64339125e-01,  -7.11463526e-02,\n",
        "         1.62560903e-02,   8.11624836e-02,   1.41056800e-01,\n",
        "         1.93062557e-01,   2.21789559e-01,   2.46998006e-01,\n",
        "         2.68465446e-01,   2.85779609e-01,   3.01063929e-01,\n",
        "         3.15840153e-01,   3.30714792e-01,   3.46844374e-01,\n",
        "         3.62908656e-01,   3.76685786e-01,   3.85551417e-01,\n",
        "         3.82306730e-01,   3.60263178e-01,   3.19435465e-01,\n",
        "         2.66101184e-01,   2.10493194e-01,   1.47318000e-01,\n",
        "         8.45866456e-02,   2.10915428e-02,  -5.71054184e-02,\n",
        "        -1.64508994e-01,  -2.61831609e-01,  -3.23913219e-01,\n",
        "        -3.82897103e-01,  -4.32669612e-01,  -4.67974890e-01,\n",
        "        -4.88137426e-01,  -4.94862612e-01,  -4.89251817e-01,\n",
        "        -4.71430051e-01,  -4.40615006e-01,  -3.94479366e-01,\n",
        "        -3.31666664e-01,  -2.55494249e-01,  -1.72868914e-01,\n",
        "        -9.99304560e-02,  -2.87388504e-02,   3.56565157e-02,\n",
        "         8.25446896e-02,   1.26579361e-01,   1.66354009e-01,\n",
        "         2.00394492e-01,   2.29074957e-01,   2.52022699e-01,\n",
        "         2.70816137e-01,   2.87608797e-01,   3.03081816e-01,\n",
        "         3.18226996e-01,   3.34628060e-01,   3.53616361e-01,\n",
        "         3.72508137e-01,   3.85468200e-01,   3.84275691e-01,\n",
        "         3.60361035e-01,   3.25955965e-01,   2.87889477e-01,\n",
        "         2.47130341e-01,   2.11232587e-01,   1.74694501e-01,\n",
        "         1.37469406e-01,   1.01539762e-01,   6.60649948e-02,\n",
        "         2.84512735e-02,  -1.63608312e-02,  -7.21487044e-02,\n",
        "        -1.34871926e-01,  -1.98534913e-01,  -2.65348458e-01,\n",
        "        -3.30637586e-01,  -3.86554458e-01,  -4.32412957e-01,\n",
        "        -4.67617146e-01,  -4.90716413e-01,  -4.83996526e-01,\n",
        "        -4.72061492e-01,  -4.57890516e-01,  -4.22786123e-01,\n",
        "        -3.82186583e-01,  -3.30210145e-01,  -2.65353716e-01,\n",
        "        -1.91259394e-01,  -1.14248632e-01,  -3.79588926e-02,\n",
        "         3.37272095e-02,   9.72353517e-02,   1.50355603e-01,\n",
        "         1.91615836e-01,   2.21958551e-01,   2.42639273e-01,\n",
        "         2.55241613e-01,   2.62019187e-01,   2.55008564e-01,\n",
        "         2.50897642e-01,   2.48894289e-01,   2.39065326e-01,\n",
        "         2.36857556e-01,   2.55708522e-01,   2.74321950e-01,\n",
        "         2.78317913e-01,   2.86889710e-01,   2.95229043e-01,\n",
        "         2.98047515e-01,   2.91897215e-01,   2.79308446e-01,\n",
        "         2.59694052e-01,   2.28156274e-01,   1.88148724e-01,\n",
        "         1.43389689e-01,   9.47259218e-02,   4.13234235e-02,\n",
        "        -1.97698664e-02,  -7.01382227e-02,  -1.26616873e-01,\n",
        "        -1.82297476e-01,  -2.22558467e-01,  -2.71071724e-01,\n",
        "        -3.21720920e-01,  -3.67532538e-01,  -4.03803056e-01,\n",
        "        -4.30691823e-01,  -4.46763438e-01,  -4.50470794e-01,\n",
        "        -4.39177532e-01,  -4.09503267e-01,  -3.59636583e-01,\n",
        "        -2.92142439e-01,  -2.14034248e-01,  -1.32660056e-01,\n",
        "        -5.36814596e-02,   8.87812856e-03,   6.74048163e-02,\n",
        "         1.18752981e-01,   1.51013569e-01,   1.78499724e-01,\n",
        "         2.09960430e-01,   2.31809345e-01,   2.36010358e-01,\n",
        "         2.39407687e-01,   2.43899593e-01,   2.50787663e-01,\n",
        "         2.60719860e-01,   2.75135610e-01,   2.94841416e-01,\n",
        "         3.17287077e-01,   3.37769659e-01,   3.49385850e-01,\n",
        "         3.44584685e-01,   3.23068075e-01,   2.89672939e-01,\n",
        "         2.47806148e-01,   2.01770449e-01,   1.56882579e-01,\n",
        "         1.15232009e-01,   7.66632064e-02,   4.06131974e-02,\n",
        "         3.05709871e-03,  -4.04155878e-02,  -9.02218911e-02,\n",
        "        -1.44393819e-01,  -1.99617613e-01,  -2.52914305e-01,\n",
        "        -3.02792748e-01,  -3.44997322e-01,  -3.76744923e-01,\n",
        "        -3.99382794e-01,  -4.12685496e-01,  -4.15915611e-01,\n",
        "        -3.97817483e-01,  -3.75969075e-01,  -3.53579705e-01,\n",
        "        -3.17076193e-01,  -2.75834877e-01,  -2.21339599e-01,\n",
        "        -1.62129739e-01,  -1.05027599e-01,  -4.53550159e-02,\n",
        "         1.35539106e-02,   6.90103946e-02,   1.17995561e-01,\n",
        "         1.59099260e-01,   1.91486154e-01,   2.15190010e-01,\n",
        "         2.30870703e-01,   2.40182008e-01,   2.45687954e-01,\n",
        "         2.49679395e-01,   2.53487518e-01,   2.46312987e-01,\n",
        "         2.46773385e-01,   2.51875444e-01,   2.46851013e-01,\n",
        "         2.46654971e-01,   2.47317991e-01,   2.45529813e-01,\n",
        "         2.36754395e-01,   2.20883266e-01,   1.98325436e-01,\n",
        "         1.71072875e-01,   1.42120988e-01,   1.12987272e-01,\n",
        "         8.73602330e-02,   6.73054209e-02,   5.21909346e-02,\n",
        "         4.48265116e-02,   4.76965482e-02,   5.14328274e-02,\n",
        "         5.31519343e-02,   5.34966528e-02,   5.07035782e-02,\n",
        "         4.46125339e-02,   3.18394505e-02,   1.75986838e-02,\n",
        "         3.08078184e-03,  -1.75950436e-02,  -4.83858571e-02,\n",
        "        -9.44187447e-02,  -1.53171593e-01,  -2.20724940e-01,\n",
        "        -2.91232939e-01,  -3.55101327e-01,  -4.08612092e-01,\n",
        "        -4.48677559e-01,  -4.71379204e-01,  -4.75927674e-01,\n",
        "        -4.63567509e-01,  -4.28693615e-01,  -3.77252996e-01,\n",
        "        -3.19797518e-01,  -2.54379895e-01,  -1.82881260e-01,\n",
        "        -1.09737357e-01,  -3.91884382e-02,   2.53450476e-02,\n",
        "         8.34496512e-02,   1.33689609e-01,   1.74490058e-01,\n",
        "         2.06040710e-01,   2.28140049e-01,   2.42065212e-01,\n",
        "         2.48524934e-01,   2.51056850e-01,   2.53435957e-01,\n",
        "         2.55773956e-01,   2.47411713e-01,   2.44805142e-01,\n",
        "         2.45935292e-01,   2.38413208e-01,   2.36260383e-01,\n",
        "         2.43292890e-01,   2.45322196e-01,   2.30229785e-01,\n",
        "         2.13671242e-01,   1.99271948e-01,   1.84447737e-01,\n",
        "         1.66308514e-01,   1.41806349e-01,   1.13052277e-01,\n",
        "         8.31571920e-02,   5.39200047e-02,   2.51550552e-02,\n",
        "        -1.16052160e-02,  -6.11968329e-02,  -1.14666686e-01,\n",
        "        -1.51309494e-01,  -2.02587858e-01,  -2.58710710e-01,\n",
        "        -2.92624426e-01,  -3.28187977e-01,  -3.59340021e-01,\n",
        "        -3.85129009e-01,  -4.03138989e-01,  -4.11298348e-01,\n",
        "        -4.07041854e-01,  -3.87607614e-01,  -3.51704312e-01,\n",
        "        -2.99563532e-01,  -2.34415293e-01,  -1.61901800e-01,\n",
        "        -8.90790882e-02,  -1.96574447e-02,   4.27889379e-02,\n",
        "         8.62914722e-02,   1.24147032e-01,   1.64625163e-01,\n",
        "         1.85317468e-01,   1.91144653e-01,   2.02054017e-01,\n",
        "         2.07148775e-01,   2.01184572e-01,   1.96256654e-01,\n",
        "         1.93151774e-01,   1.94258557e-01,   2.00937467e-01,\n",
        "         2.13345768e-01,   2.29386017e-01,   2.44018584e-01,\n",
        "         2.53046924e-01,   2.54876153e-01,   2.50018998e-01,\n",
        "         2.39679165e-01,   2.26165760e-01,   2.05922035e-01,\n",
        "         1.81747849e-01,   1.57109345e-01,   1.27685328e-01,\n",
        "         9.61225953e-02,   6.15801964e-02,   2.12174726e-02,\n",
        "        -2.84272368e-02,  -8.73265681e-02,  -1.49562707e-01,\n",
        "        -2.13181636e-01,  -2.74968379e-01,  -3.26077553e-01,\n",
        "        -3.62047585e-01,  -3.83689285e-01,  -3.89746320e-01,\n",
        "        -3.80925790e-01,  -3.58884828e-01,  -3.21850610e-01,\n",
        "        -2.73096409e-01,  -2.21081376e-01,  -1.67760168e-01,\n",
        "        -1.14322624e-01,  -5.76242945e-02,  -7.09226627e-03,\n",
        "         3.06738275e-02,   6.45989553e-02,   9.39466332e-02,\n",
        "         1.18130496e-01,   1.38997035e-01,   1.57815318e-01,\n",
        "         1.75071869e-01,   1.90924042e-01,   2.06073558e-01,\n",
        "         2.21509543e-01,   2.36209158e-01,   2.49882257e-01,\n",
        "         2.60591250e-01,   2.56455599e-01,   2.49154794e-01,\n",
        "         2.40501566e-01,   2.23698811e-01,   2.10833253e-01,\n",
        "         1.98409410e-01,   1.83703275e-01,   1.64187266e-01,\n",
        "         1.38819338e-01,   1.11594983e-01,   8.44835603e-02,\n",
        "         5.73554763e-02,   3.04288646e-02,   1.42841139e-04,\n",
        "        -3.80986829e-02,  -8.58958184e-02,  -1.42318389e-01,\n",
        "        -2.04494132e-01,  -2.46892532e-01,  -2.89060755e-01,\n",
        "        -3.27696437e-01,  -3.41445882e-01,  -3.54035289e-01,\n",
        "        -3.72471129e-01,  -3.77810813e-01,  -3.57925925e-01,\n",
        "        -3.26498618e-01,  -2.82032314e-01,  -2.26402681e-01,\n",
        "        -1.64174604e-01,  -1.01569255e-01,  -4.29725688e-02,\n",
        "         9.52038068e-03,   5.54726552e-02,   9.43763479e-02,\n",
        "         1.25948212e-01,   1.50262851e-01,   1.67537318e-01,\n",
        "         1.71840298e-01,   1.75649691e-01,   1.78850233e-01,\n",
        "         1.74839343e-01,   1.76224009e-01,   1.81663407e-01,\n",
        "         1.89659125e-01,   1.99280890e-01,   2.09061764e-01,\n",
        "         2.16954984e-01,   2.05086560e-01,   1.70406902e-01,\n",
        "         1.35409415e-01,   1.11196339e-01,   9.83075678e-02,\n",
        "         9.40324261e-02,   9.33743570e-02,   9.10346425e-02,\n",
        "         8.42502108e-02,   7.12837503e-02,   5.55717984e-02,\n",
        "         3.96025773e-02,   2.30829325e-02,  -6.19751862e-03,\n",
        "        -3.92657122e-02,  -7.29580782e-02,  -1.18398336e-01,\n",
        "        -1.68025230e-01,  -2.20486550e-01,  -2.69621503e-01,\n",
        "        -3.10963944e-01,  -3.43041580e-01,  -3.63727450e-01,\n",
        "        -3.73168145e-01,  -3.71486964e-01,  -3.57362293e-01,\n",
        "        -3.29974226e-01,  -2.89546213e-01,  -2.41225651e-01,\n",
        "        -1.85471452e-01,  -1.29646089e-01,  -8.01613685e-02,\n",
        "        -3.29473446e-02,   1.07679777e-02,   5.01202378e-02,\n",
        "         8.40440876e-02,   1.12501500e-01,   1.36863294e-01,\n",
        "         1.58764185e-01,   1.78454001e-01,   1.94642491e-01,\n",
        "         2.07456510e-01,   2.17469535e-01,   2.23709561e-01,\n",
        "         2.26527783e-01,   2.27500852e-01,   0.00000000e+00,\n",
        "         0.00000000e+00,   0.00000000e+00,   0.00000000e+00,\n",
        "         0.00000000e+00,   0.00000000e+00,   0.00000000e+00,\n",
        "         0.00000000e+00,   0.00000000e+00,   0.00000000e+00,\n",
        "         0.00000000e+00,   0.00000000e+00,   0.00000000e+00,\n",
        "         0.00000000e+00,   0.00000000e+00,   0.00000000e+00,\n",
        "         0.00000000e+00,   0.00000000e+00,   0.00000000e+00,\n",
        "         0.00000000e+00,   0.00000000e+00,   0.00000000e+00,\n",
        "         0.00000000e+00,   0.00000000e+00,   0.00000000e+00,\n",
        "         0.00000000e+00,   0.00000000e+00,   0.00000000e+00,\n",
        "         0.00000000e+00,   0.00000000e+00,   0.00000000e+00,\n",
        "         0.00000000e+00,   0.00000000e+00,   0.00000000e+00,\n",
        "         0.00000000e+00,   0.00000000e+00,   0.00000000e+00,\n",
        "         0.00000000e+00,   0.00000000e+00,   0.00000000e+00,\n",
        "         0.00000000e+00,   0.00000000e+00,   0.00000000e+00,\n",
        "         0.00000000e+00,   0.00000000e+00,   0.00000000e+00,\n",
        "         0.00000000e+00,   0.00000000e+00,   0.00000000e+00,\n",
        "         0.00000000e+00,   0.00000000e+00,   0.00000000e+00,\n",
        "         0.00000000e+00,   0.00000000e+00,   0.00000000e+00,\n",
        "         0.00000000e+00,   0.00000000e+00,   0.00000000e+00,\n",
        "         0.00000000e+00,   0.00000000e+00,   0.00000000e+00,\n",
        "         0.00000000e+00,   0.00000000e+00,   0.00000000e+00,\n",
        "         0.00000000e+00,   0.00000000e+00,   0.00000000e+00,\n",
        "         0.00000000e+00,   0.00000000e+00,   0.00000000e+00,\n",
        "         0.00000000e+00,   0.00000000e+00,   0.00000000e+00,\n",
        "         0.00000000e+00,   0.00000000e+00,   0.00000000e+00,\n",
        "         0.00000000e+00,   0.00000000e+00,   0.00000000e+00,\n",
        "         0.00000000e+00,   0.00000000e+00,   0.00000000e+00,\n",
        "         0.00000000e+00,   0.00000000e+00,   0.00000000e+00,\n",
        "         0.00000000e+00,   0.00000000e+00,   0.00000000e+00,\n",
        "         0.00000000e+00])"
       ]
      }
     ],
     "prompt_number": 45
    },
    {
     "cell_type": "code",
     "collapsed": false,
     "input": [
      "sss = StratifiedShuffleSplit(label_arr, n_iter = 1, test_size = 0.3, random_state=100)\n",
      "acc_list = []\n",
      "recall_list = []\n",
      "prec_list = []\n",
      "#X = pitch_arr\n",
      "for train_index, test_index in sss:\n",
      "    #print(\"TRAIN:\", train_index, \"TEST:\", test_index)\n",
      "    X_train, X_test = X[train_index], X[test_index]\n",
      "    print X_train.shape, X_test.shape\n",
      "    y_train, y_test = label_arr[train_index], label_arr[test_index]\n",
      "    #m = KnnDtw()\n",
      "    #matrix = m._dist_matrix(X_train[:4], X_test[:2])\n",
      "    m = KnnDtw(n_neighbors=1, max_warping_window=40)\n",
      "    m.fit(X_train, y_train)\n",
      "    y_pred, proba = m.predict(X_test)\n",
      "    acc = metrics.accuracy_score(y_test, y_pred)\n",
      "    acc_list.append(acc)\n",
      "    #print 'accuracy score for default parameters', acc\n",
      "    recall = metrics.recall_score(y_test, y_pred)\n",
      "    recall_list.append(recall)\n",
      "    #print 'recall score for default parameters', recall\n",
      "    precision = metrics.precision_score(y_test, y_pred)\n",
      "    prec_list.append(precision)\n",
      "    #print 'precision score for default parameters', precision\n",
      "    cm = metrics.confusion_matrix(y_test, y_pred)\n",
      "    print(cm)\n",
      "\n",
      "    # Show confusion matrix in a separate window\n",
      "    #plt.matshow(cm)\n",
      "    #plt.title('Confusion matrix')\n",
      "    #plt.colorbar()\n",
      "    #plt.ylabel('True label')\n",
      "    #plt.xlabel('Predicted label')\n",
      "    #plt.show()\n",
      "    \n",
      "    #fi = rf.feature_importances_\n",
      "    # sorted in ascending order\n",
      "    #fi_index = np.argsort(fi)\n",
      "    #fi_index += 4\n",
      "    #print feature_names[fi_index]\n",
      "print 'average accuracy and std:', np.mean(acc_list), np.std(acc_list)\n",
      "print 'average precison and std:', np.mean(prec_list), np.std(prec_list)\n",
      "print 'average recall and std:', np.mean(recall_list), np.std(recall_list)"
     ],
     "language": "python",
     "metadata": {},
     "outputs": [
      {
       "output_type": "stream",
       "stream": "stdout",
       "text": [
        "(27, 559) (12, 559)\n",
        "\r"
       ]
      },
      {
       "output_type": "stream",
       "stream": "stdout",
       "text": [
        "[                  0%                  ]"
       ]
      },
      {
       "output_type": "stream",
       "stream": "stdout",
       "text": [
        " \r",
        "[                  1%                  ]  2 of 324 complete"
       ]
      },
      {
       "output_type": "stream",
       "stream": "stdout",
       "text": [
        " \r",
        "[                  1%                  ]  3 of 324 complete"
       ]
      },
      {
       "output_type": "stream",
       "stream": "stdout",
       "text": [
        " \r",
        "[                  1%                  ]  4 of 324 complete"
       ]
      },
      {
       "output_type": "stream",
       "stream": "stdout",
       "text": [
        " \r",
        "[*                 2%                  ]  5 of 324 complete"
       ]
      },
      {
       "output_type": "stream",
       "stream": "stdout",
       "text": [
        " \r",
        "[*                 2%                  ]  6 of 324 complete"
       ]
      },
      {
       "output_type": "stream",
       "stream": "stdout",
       "text": [
        " \r",
        "[*                 2%                  ]  7 of 324 complete"
       ]
      },
      {
       "output_type": "stream",
       "stream": "stdout",
       "text": [
        " \r",
        "[*                 2%                  ]  8 of 324 complete"
       ]
      },
      {
       "output_type": "stream",
       "stream": "stdout",
       "text": [
        " \r",
        "[*                 3%                  ]  9 of 324 complete"
       ]
      },
      {
       "output_type": "stream",
       "stream": "stdout",
       "text": [
        " \r",
        "[*                 3%                  ]  10 of 324 complete"
       ]
      },
      {
       "output_type": "stream",
       "stream": "stdout",
       "text": [
        " \r",
        "[*                 3%                  ]  11 of 324 complete"
       ]
      },
      {
       "output_type": "stream",
       "stream": "stdout",
       "text": [
        " \r",
        "[**                4%                  ]  12 of 324 complete"
       ]
      },
      {
       "output_type": "stream",
       "stream": "stdout",
       "text": [
        " \r",
        "[**                4%                  ]  13 of 324 complete"
       ]
      },
      {
       "output_type": "stream",
       "stream": "stdout",
       "text": [
        " \r",
        "[**                4%                  ]  14 of 324 complete"
       ]
      },
      {
       "output_type": "stream",
       "stream": "stdout",
       "text": [
        " \r",
        "[**                5%                  ]  15 of 324 complete"
       ]
      },
      {
       "output_type": "stream",
       "stream": "stdout",
       "text": [
        " \r",
        "[**                5%                  ]  16 of 324 complete"
       ]
      },
      {
       "output_type": "stream",
       "stream": "stdout",
       "text": [
        " \r",
        "[**                5%                  ]  17 of 324 complete"
       ]
      },
      {
       "output_type": "stream",
       "stream": "stdout",
       "text": [
        " \r",
        "[**                6%                  ]  18 of 324 complete"
       ]
      },
      {
       "output_type": "stream",
       "stream": "stdout",
       "text": [
        " \r",
        "[**                6%                  ]  19 of 324 complete"
       ]
      },
      {
       "output_type": "stream",
       "stream": "stdout",
       "text": [
        " \r",
        "[**                6%                  ]  20 of 324 complete"
       ]
      },
      {
       "output_type": "stream",
       "stream": "stdout",
       "text": [
        " \r",
        "[**                6%                  ]  21 of 324 complete"
       ]
      },
      {
       "output_type": "stream",
       "stream": "stdout",
       "text": [
        " \r",
        "[***               7%                  ]  22 of 324 complete"
       ]
      },
      {
       "output_type": "stream",
       "stream": "stdout",
       "text": [
        " \r",
        "[***               7%                  ]  23 of 324 complete"
       ]
      },
      {
       "output_type": "stream",
       "stream": "stdout",
       "text": [
        " \r",
        "[***               7%                  ]  24 of 324 complete"
       ]
      },
      {
       "output_type": "stream",
       "stream": "stdout",
       "text": [
        " \r",
        "[***               8%                  ]  25 of 324 complete"
       ]
      },
      {
       "output_type": "stream",
       "stream": "stdout",
       "text": [
        " \r",
        "[***               8%                  ]  26 of 324 complete"
       ]
      },
      {
       "output_type": "stream",
       "stream": "stdout",
       "text": [
        " \r",
        "[***               8%                  ]  27 of 324 complete"
       ]
      },
      {
       "output_type": "stream",
       "stream": "stdout",
       "text": [
        " \r",
        "[***               9%                  ]  28 of 324 complete"
       ]
      },
      {
       "output_type": "stream",
       "stream": "stdout",
       "text": [
        " \r",
        "[***               9%                  ]  29 of 324 complete"
       ]
      },
      {
       "output_type": "stream",
       "stream": "stdout",
       "text": [
        " \r",
        "[***               9%                  ]  30 of 324 complete"
       ]
      },
      {
       "output_type": "stream",
       "stream": "stdout",
       "text": [
        " \r",
        "[****             10%                  ]  31 of 324 complete"
       ]
      },
      {
       "output_type": "stream",
       "stream": "stdout",
       "text": [
        " \r",
        "[****             10%                  ]  32 of 324 complete"
       ]
      },
      {
       "output_type": "stream",
       "stream": "stdout",
       "text": [
        " \r",
        "[****             10%                  ]  33 of 324 complete"
       ]
      },
      {
       "output_type": "stream",
       "stream": "stdout",
       "text": [
        " \r",
        "[****             10%                  ]  34 of 324 complete"
       ]
      },
      {
       "output_type": "stream",
       "stream": "stdout",
       "text": [
        " \r",
        "[****             11%                  ]  35 of 324 complete"
       ]
      },
      {
       "output_type": "stream",
       "stream": "stdout",
       "text": [
        " \r",
        "[****             11%                  ]  36 of 324 complete"
       ]
      },
      {
       "output_type": "stream",
       "stream": "stdout",
       "text": [
        " \r",
        "[****             11%                  ]  37 of 324 complete"
       ]
      },
      {
       "output_type": "stream",
       "stream": "stdout",
       "text": [
        " \r",
        "[*****            12%                  ]  38 of 324 complete"
       ]
      },
      {
       "output_type": "stream",
       "stream": "stdout",
       "text": [
        " \r",
        "[*****            12%                  ]  39 of 324 complete"
       ]
      },
      {
       "output_type": "stream",
       "stream": "stdout",
       "text": [
        " \r",
        "[*****            12%                  ]  40 of 324 complete"
       ]
      },
      {
       "output_type": "stream",
       "stream": "stdout",
       "text": [
        " \r",
        "[*****            13%                  ]  41 of 324 complete"
       ]
      },
      {
       "output_type": "stream",
       "stream": "stdout",
       "text": [
        " \r",
        "[*****            13%                  ]  42 of 324 complete"
       ]
      },
      {
       "output_type": "stream",
       "stream": "stdout",
       "text": [
        " \r",
        "[*****            13%                  ]  43 of 324 complete"
       ]
      },
      {
       "output_type": "stream",
       "stream": "stdout",
       "text": [
        " \r",
        "[*****            14%                  ]  44 of 324 complete"
       ]
      },
      {
       "output_type": "stream",
       "stream": "stdout",
       "text": [
        " \r",
        "[*****            14%                  ]  45 of 324 complete"
       ]
      },
      {
       "output_type": "stream",
       "stream": "stdout",
       "text": [
        " \r",
        "[*****            14%                  ]  46 of 324 complete"
       ]
      },
      {
       "output_type": "stream",
       "stream": "stdout",
       "text": [
        " \r",
        "[******           15%                  ]  47 of 324 complete"
       ]
      },
      {
       "output_type": "stream",
       "stream": "stdout",
       "text": [
        " \r",
        "[******           15%                  ]  48 of 324 complete"
       ]
      },
      {
       "output_type": "stream",
       "stream": "stdout",
       "text": [
        " \r",
        "[******           15%                  ]  49 of 324 complete"
       ]
      },
      {
       "output_type": "stream",
       "stream": "stdout",
       "text": [
        " \r",
        "[******           15%                  ]  50 of 324 complete"
       ]
      },
      {
       "output_type": "stream",
       "stream": "stdout",
       "text": [
        " \r",
        "[******           16%                  ]  51 of 324 complete"
       ]
      },
      {
       "output_type": "stream",
       "stream": "stdout",
       "text": [
        " \r",
        "[******           16%                  ]  52 of 324 complete"
       ]
      },
      {
       "output_type": "stream",
       "stream": "stdout",
       "text": [
        " \r",
        "[******           16%                  ]  53 of 324 complete"
       ]
      },
      {
       "output_type": "stream",
       "stream": "stdout",
       "text": [
        " \r",
        "[******           17%                  ]  54 of 324 complete"
       ]
      },
      {
       "output_type": "stream",
       "stream": "stdout",
       "text": [
        " \r",
        "[******           17%                  ]  55 of 324 complete"
       ]
      },
      {
       "output_type": "stream",
       "stream": "stdout",
       "text": [
        " \r",
        "[******           17%                  ]  56 of 324 complete"
       ]
      },
      {
       "output_type": "stream",
       "stream": "stdout",
       "text": [
        " \r",
        "[*******          18%                  ]  57 of 324 complete"
       ]
      },
      {
       "output_type": "stream",
       "stream": "stdout",
       "text": [
        " \r",
        "[*******          18%                  ]  58 of 324 complete"
       ]
      },
      {
       "output_type": "stream",
       "stream": "stdout",
       "text": [
        " \r",
        "[*******          18%                  ]  59 of 324 complete"
       ]
      },
      {
       "output_type": "stream",
       "stream": "stdout",
       "text": [
        " \r",
        "[*******          19%                  ]  60 of 324 complete"
       ]
      },
      {
       "output_type": "stream",
       "stream": "stdout",
       "text": [
        " \r",
        "[*******          19%                  ]  61 of 324 complete"
       ]
      },
      {
       "output_type": "stream",
       "stream": "stdout",
       "text": [
        " \r",
        "[*******          19%                  ]  62 of 324 complete"
       ]
      },
      {
       "output_type": "stream",
       "stream": "stdout",
       "text": [
        " \r",
        "[*******          19%                  ]  63 of 324 complete"
       ]
      },
      {
       "output_type": "stream",
       "stream": "stdout",
       "text": [
        " \r",
        "[********         20%                  ]  64 of 324 complete"
       ]
      },
      {
       "output_type": "stream",
       "stream": "stdout",
       "text": [
        " \r",
        "[********         20%                  ]  65 of 324 complete"
       ]
      },
      {
       "output_type": "stream",
       "stream": "stdout",
       "text": [
        " \r",
        "[********         20%                  ]  66 of 324 complete"
       ]
      },
      {
       "output_type": "stream",
       "stream": "stdout",
       "text": [
        " \r",
        "[********         21%                  ]  67 of 324 complete"
       ]
      },
      {
       "output_type": "stream",
       "stream": "stdout",
       "text": [
        " \r",
        "[********         21%                  ]  68 of 324 complete"
       ]
      },
      {
       "output_type": "stream",
       "stream": "stdout",
       "text": [
        " \r",
        "[********         21%                  ]  69 of 324 complete"
       ]
      },
      {
       "output_type": "stream",
       "stream": "stdout",
       "text": [
        " \r",
        "[********         22%                  ]  70 of 324 complete"
       ]
      },
      {
       "output_type": "stream",
       "stream": "stdout",
       "text": [
        " \r",
        "[********         22%                  ]  71 of 324 complete"
       ]
      },
      {
       "output_type": "stream",
       "stream": "stdout",
       "text": [
        " \r",
        "[********         22%                  ]  72 of 324 complete"
       ]
      },
      {
       "output_type": "stream",
       "stream": "stdout",
       "text": [
        " \r",
        "[*********        23%                  ]  73 of 324 complete"
       ]
      },
      {
       "output_type": "stream",
       "stream": "stdout",
       "text": [
        " \r",
        "[*********        23%                  ]  74 of 324 complete"
       ]
      },
      {
       "output_type": "stream",
       "stream": "stdout",
       "text": [
        " \r",
        "[*********        23%                  ]  75 of 324 complete"
       ]
      },
      {
       "output_type": "stream",
       "stream": "stdout",
       "text": [
        " \r",
        "[*********        23%                  ]  76 of 324 complete"
       ]
      },
      {
       "output_type": "stream",
       "stream": "stdout",
       "text": [
        " \r",
        "[*********        24%                  ]  77 of 324 complete"
       ]
      },
      {
       "output_type": "stream",
       "stream": "stdout",
       "text": [
        " \r",
        "[*********        24%                  ]  78 of 324 complete"
       ]
      },
      {
       "output_type": "stream",
       "stream": "stdout",
       "text": [
        " \r",
        "[*********        24%                  ]  79 of 324 complete"
       ]
      },
      {
       "output_type": "stream",
       "stream": "stdout",
       "text": [
        " \r",
        "[**********       25%                  ]  80 of 324 complete"
       ]
      },
      {
       "output_type": "stream",
       "stream": "stdout",
       "text": [
        " \r",
        "[**********       25%                  ]  81 of 324 complete"
       ]
      },
      {
       "output_type": "stream",
       "stream": "stdout",
       "text": [
        " \r",
        "[**********       25%                  ]  82 of 324 complete"
       ]
      },
      {
       "output_type": "stream",
       "stream": "stdout",
       "text": [
        " \r",
        "[**********       26%                  ]  83 of 324 complete"
       ]
      },
      {
       "output_type": "stream",
       "stream": "stdout",
       "text": [
        " \r",
        "[**********       26%                  ]  84 of 324 complete"
       ]
      },
      {
       "output_type": "stream",
       "stream": "stdout",
       "text": [
        " \r",
        "[**********       26%                  ]  85 of 324 complete"
       ]
      },
      {
       "output_type": "stream",
       "stream": "stdout",
       "text": [
        " \r",
        "[**********       27%                  ]  86 of 324 complete"
       ]
      },
      {
       "output_type": "stream",
       "stream": "stdout",
       "text": [
        " \r",
        "[**********       27%                  ]  87 of 324 complete"
       ]
      },
      {
       "output_type": "stream",
       "stream": "stdout",
       "text": [
        " \r",
        "[**********       27%                  ]  88 of 324 complete"
       ]
      },
      {
       "output_type": "stream",
       "stream": "stdout",
       "text": [
        " \r",
        "[**********       27%                  ]  89 of 324 complete"
       ]
      },
      {
       "output_type": "stream",
       "stream": "stdout",
       "text": [
        " \r",
        "[***********      28%                  ]  90 of 324 complete"
       ]
      },
      {
       "output_type": "stream",
       "stream": "stdout",
       "text": [
        " \r",
        "[***********      28%                  ]  91 of 324 complete"
       ]
      },
      {
       "output_type": "stream",
       "stream": "stdout",
       "text": [
        " \r",
        "[***********      28%                  ]  92 of 324 complete"
       ]
      },
      {
       "output_type": "stream",
       "stream": "stdout",
       "text": [
        " \r",
        "[***********      29%                  ]  93 of 324 complete"
       ]
      },
      {
       "output_type": "stream",
       "stream": "stdout",
       "text": [
        " \r",
        "[***********      29%                  ]  94 of 324 complete"
       ]
      },
      {
       "output_type": "stream",
       "stream": "stdout",
       "text": [
        " \r",
        "[***********      29%                  ]  95 of 324 complete"
       ]
      },
      {
       "output_type": "stream",
       "stream": "stdout",
       "text": [
        " \r",
        "[***********      30%                  ]  96 of 324 complete"
       ]
      },
      {
       "output_type": "stream",
       "stream": "stdout",
       "text": [
        " \r",
        "[***********      30%                  ]  97 of 324 complete"
       ]
      },
      {
       "output_type": "stream",
       "stream": "stdout",
       "text": [
        " \r",
        "[***********      30%                  ]  98 of 324 complete"
       ]
      },
      {
       "output_type": "stream",
       "stream": "stdout",
       "text": [
        " \r",
        "[************     31%                  ]  99 of 324 complete"
       ]
      },
      {
       "output_type": "stream",
       "stream": "stdout",
       "text": [
        " \r",
        "[************     31%                  ]  100 of 324 complete"
       ]
      },
      {
       "output_type": "stream",
       "stream": "stdout",
       "text": [
        " \r",
        "[************     31%                  ]  101 of 324 complete"
       ]
      },
      {
       "output_type": "stream",
       "stream": "stdout",
       "text": [
        " \r",
        "[************     31%                  ]  102 of 324 complete"
       ]
      },
      {
       "output_type": "stream",
       "stream": "stdout",
       "text": [
        " \r",
        "[************     32%                  ]  103 of 324 complete"
       ]
      },
      {
       "output_type": "stream",
       "stream": "stdout",
       "text": [
        " \r",
        "[************     32%                  ]  104 of 324 complete"
       ]
      },
      {
       "output_type": "stream",
       "stream": "stdout",
       "text": [
        " \r",
        "[************     32%                  ]  105 of 324 complete"
       ]
      },
      {
       "output_type": "stream",
       "stream": "stdout",
       "text": [
        " \r",
        "[*************    33%                  ]  106 of 324 complete"
       ]
      },
      {
       "output_type": "stream",
       "stream": "stdout",
       "text": [
        " \r",
        "[*************    33%                  ]  107 of 324 complete"
       ]
      },
      {
       "output_type": "stream",
       "stream": "stdout",
       "text": [
        " \r",
        "[*************    33%                  ]  108 of 324 complete"
       ]
      },
      {
       "output_type": "stream",
       "stream": "stdout",
       "text": [
        " \r",
        "[*************    34%                  ]  109 of 324 complete"
       ]
      },
      {
       "output_type": "stream",
       "stream": "stdout",
       "text": [
        " \r",
        "[*************    34%                  ]  110 of 324 complete"
       ]
      },
      {
       "output_type": "stream",
       "stream": "stdout",
       "text": [
        " \r",
        "[*************    34%                  ]  111 of 324 complete"
       ]
      },
      {
       "output_type": "stream",
       "stream": "stdout",
       "text": [
        " \r",
        "[*************    35%                  ]  112 of 324 complete"
       ]
      },
      {
       "output_type": "stream",
       "stream": "stdout",
       "text": [
        " \r",
        "[*************    35%                  ]  113 of 324 complete"
       ]
      },
      {
       "output_type": "stream",
       "stream": "stdout",
       "text": [
        " \r",
        "[*************    35%                  ]  114 of 324 complete"
       ]
      },
      {
       "output_type": "stream",
       "stream": "stdout",
       "text": [
        " \r",
        "[*************    35%                  ]  115 of 324 complete"
       ]
      },
      {
       "output_type": "stream",
       "stream": "stdout",
       "text": [
        " \r",
        "[**************   36%                  ]  116 of 324 complete"
       ]
      },
      {
       "output_type": "stream",
       "stream": "stdout",
       "text": [
        " \r",
        "[**************   36%                  ]  117 of 324 complete"
       ]
      },
      {
       "output_type": "stream",
       "stream": "stdout",
       "text": [
        " \r",
        "[**************   36%                  ]  118 of 324 complete"
       ]
      },
      {
       "output_type": "stream",
       "stream": "stdout",
       "text": [
        " \r",
        "[**************   37%                  ]  119 of 324 complete"
       ]
      },
      {
       "output_type": "stream",
       "stream": "stdout",
       "text": [
        " \r",
        "[**************   37%                  ]  120 of 324 complete"
       ]
      },
      {
       "output_type": "stream",
       "stream": "stdout",
       "text": [
        " \r",
        "[**************   37%                  ]  121 of 324 complete"
       ]
      },
      {
       "output_type": "stream",
       "stream": "stdout",
       "text": [
        " \r",
        "[**************   38%                  ]  122 of 324 complete"
       ]
      },
      {
       "output_type": "stream",
       "stream": "stdout",
       "text": [
        " \r",
        "[**************   38%                  ]  123 of 324 complete"
       ]
      },
      {
       "output_type": "stream",
       "stream": "stdout",
       "text": [
        " \r",
        "[**************   38%                  ]  124 of 324 complete"
       ]
      },
      {
       "output_type": "stream",
       "stream": "stdout",
       "text": [
        " \r",
        "[***************  39%                  ]  125 of 324 complete"
       ]
      },
      {
       "output_type": "stream",
       "stream": "stdout",
       "text": [
        " \r",
        "[***************  39%                  ]  126 of 324 complete"
       ]
      },
      {
       "output_type": "stream",
       "stream": "stdout",
       "text": [
        " \r",
        "[***************  39%                  ]  127 of 324 complete"
       ]
      },
      {
       "output_type": "stream",
       "stream": "stdout",
       "text": [
        " \r",
        "[***************  40%                  ]  128 of 324 complete"
       ]
      },
      {
       "output_type": "stream",
       "stream": "stdout",
       "text": [
        " \r",
        "[***************  40%                  ]  129 of 324 complete"
       ]
      },
      {
       "output_type": "stream",
       "stream": "stdout",
       "text": [
        " \r",
        "[***************  40%                  ]  130 of 324 complete"
       ]
      },
      {
       "output_type": "stream",
       "stream": "stdout",
       "text": [
        " \r",
        "[***************  40%                  ]  131 of 324 complete"
       ]
      },
      {
       "output_type": "stream",
       "stream": "stdout",
       "text": [
        " \r",
        "[**************** 41%                  ]  132 of 324 complete"
       ]
      },
      {
       "output_type": "stream",
       "stream": "stdout",
       "text": [
        " \r",
        "[**************** 41%                  ]  133 of 324 complete"
       ]
      },
      {
       "output_type": "stream",
       "stream": "stdout",
       "text": [
        " \r",
        "[**************** 41%                  ]  134 of 324 complete"
       ]
      },
      {
       "output_type": "stream",
       "stream": "stdout",
       "text": [
        " \r",
        "[**************** 42%                  ]  135 of 324 complete"
       ]
      },
      {
       "output_type": "stream",
       "stream": "stdout",
       "text": [
        " \r",
        "[**************** 42%                  ]  136 of 324 complete"
       ]
      },
      {
       "output_type": "stream",
       "stream": "stdout",
       "text": [
        " \r",
        "[**************** 42%                  ]  137 of 324 complete"
       ]
      },
      {
       "output_type": "stream",
       "stream": "stdout",
       "text": [
        " \r",
        "[**************** 43%                  ]  138 of 324 complete"
       ]
      },
      {
       "output_type": "stream",
       "stream": "stdout",
       "text": [
        " \r",
        "[**************** 43%                  ]  139 of 324 complete"
       ]
      },
      {
       "output_type": "stream",
       "stream": "stdout",
       "text": [
        " \r",
        "[**************** 43%                  ]  140 of 324 complete"
       ]
      },
      {
       "output_type": "stream",
       "stream": "stdout",
       "text": [
        " \r",
        "[*****************44%                  ]  141 of 324 complete"
       ]
      },
      {
       "output_type": "stream",
       "stream": "stdout",
       "text": [
        " \r",
        "[*****************44%                  ]  142 of 324 complete"
       ]
      },
      {
       "output_type": "stream",
       "stream": "stdout",
       "text": [
        " \r",
        "[*****************44%                  ]  143 of 324 complete"
       ]
      },
      {
       "output_type": "stream",
       "stream": "stdout",
       "text": [
        " \r",
        "[*****************44%                  ]  144 of 324 complete"
       ]
      },
      {
       "output_type": "stream",
       "stream": "stdout",
       "text": [
        " \r",
        "[*****************45%                  ]  145 of 324 complete"
       ]
      },
      {
       "output_type": "stream",
       "stream": "stdout",
       "text": [
        " \r",
        "[*****************45%                  ]  146 of 324 complete"
       ]
      },
      {
       "output_type": "stream",
       "stream": "stdout",
       "text": [
        " \r",
        "[*****************45%                  ]  147 of 324 complete"
       ]
      },
      {
       "output_type": "stream",
       "stream": "stdout",
       "text": [
        " \r",
        "[*****************46%                  ]  148 of 324 complete"
       ]
      },
      {
       "output_type": "stream",
       "stream": "stdout",
       "text": [
        " \r",
        "[*****************46%                  ]  149 of 324 complete"
       ]
      },
      {
       "output_type": "stream",
       "stream": "stdout",
       "text": [
        " \r",
        "[*****************46%                  ]  150 of 324 complete"
       ]
      },
      {
       "output_type": "stream",
       "stream": "stdout",
       "text": [
        " \r",
        "[*****************47%                  ]  151 of 324 complete"
       ]
      },
      {
       "output_type": "stream",
       "stream": "stdout",
       "text": [
        " \r",
        "[*****************47%                  ]  152 of 324 complete"
       ]
      },
      {
       "output_type": "stream",
       "stream": "stdout",
       "text": [
        " \r",
        "[*****************47%                  ]  153 of 324 complete"
       ]
      },
      {
       "output_type": "stream",
       "stream": "stdout",
       "text": [
        " \r",
        "[*****************48%                  ]  154 of 324 complete"
       ]
      },
      {
       "output_type": "stream",
       "stream": "stdout",
       "text": [
        " \r",
        "[*****************48%                  ]  155 of 324 complete"
       ]
      },
      {
       "output_type": "stream",
       "stream": "stdout",
       "text": [
        " \r",
        "[*****************48%                  ]  156 of 324 complete"
       ]
      },
      {
       "output_type": "stream",
       "stream": "stdout",
       "text": [
        " \r",
        "[*****************48%                  ]  157 of 324 complete"
       ]
      },
      {
       "output_type": "stream",
       "stream": "stdout",
       "text": [
        " \r",
        "[*****************49%                  ]  158 of 324 complete"
       ]
      },
      {
       "output_type": "stream",
       "stream": "stdout",
       "text": [
        " \r",
        "[*****************49%                  ]  159 of 324 complete"
       ]
      },
      {
       "output_type": "stream",
       "stream": "stdout",
       "text": [
        " \r",
        "[*****************49%                  ]  160 of 324 complete"
       ]
      },
      {
       "output_type": "stream",
       "stream": "stdout",
       "text": [
        " \r",
        "[*****************50%                  ]  161 of 324 complete"
       ]
      },
      {
       "output_type": "stream",
       "stream": "stdout",
       "text": [
        " \r",
        "[*****************50%                  ]  162 of 324 complete"
       ]
      },
      {
       "output_type": "stream",
       "stream": "stdout",
       "text": [
        " \r",
        "[*****************50%                  ]  163 of 324 complete"
       ]
      },
      {
       "output_type": "stream",
       "stream": "stdout",
       "text": [
        " \r",
        "[*****************51%                  ]  164 of 324 complete"
       ]
      },
      {
       "output_type": "stream",
       "stream": "stdout",
       "text": [
        " \r",
        "[*****************51%                  ]  165 of 324 complete"
       ]
      },
      {
       "output_type": "stream",
       "stream": "stdout",
       "text": [
        " \r",
        "[*****************51%                  ]  166 of 324 complete"
       ]
      },
      {
       "output_type": "stream",
       "stream": "stdout",
       "text": [
        " \r",
        "[*****************52%                  ]  167 of 324 complete"
       ]
      },
      {
       "output_type": "stream",
       "stream": "stdout",
       "text": [
        " \r",
        "[*****************52%                  ]  168 of 324 complete"
       ]
      },
      {
       "output_type": "stream",
       "stream": "stdout",
       "text": [
        " \r",
        "[*****************52%                  ]  169 of 324 complete"
       ]
      },
      {
       "output_type": "stream",
       "stream": "stdout",
       "text": [
        " \r",
        "[*****************52%                  ]  170 of 324 complete"
       ]
      },
      {
       "output_type": "stream",
       "stream": "stdout",
       "text": [
        " \r",
        "[*****************53%                  ]  171 of 324 complete"
       ]
      },
      {
       "output_type": "stream",
       "stream": "stdout",
       "text": [
        " \r",
        "[*****************53%                  ]  172 of 324 complete"
       ]
      },
      {
       "output_type": "stream",
       "stream": "stdout",
       "text": [
        " \r",
        "[*****************53%                  ]  173 of 324 complete"
       ]
      },
      {
       "output_type": "stream",
       "stream": "stdout",
       "text": [
        " \r",
        "[*****************54%*                 ]  174 of 324 complete"
       ]
      },
      {
       "output_type": "stream",
       "stream": "stdout",
       "text": [
        " \r",
        "[*****************54%*                 ]  175 of 324 complete"
       ]
      },
      {
       "output_type": "stream",
       "stream": "stdout",
       "text": [
        " \r",
        "[*****************54%*                 ]  176 of 324 complete"
       ]
      },
      {
       "output_type": "stream",
       "stream": "stdout",
       "text": [
        " \r",
        "[*****************55%*                 ]  177 of 324 complete"
       ]
      },
      {
       "output_type": "stream",
       "stream": "stdout",
       "text": [
        " \r",
        "[*****************55%*                 ]  178 of 324 complete"
       ]
      },
      {
       "output_type": "stream",
       "stream": "stdout",
       "text": [
        " \r",
        "[*****************55%*                 ]  179 of 324 complete"
       ]
      },
      {
       "output_type": "stream",
       "stream": "stdout",
       "text": [
        " \r",
        "[*****************56%*                 ]  180 of 324 complete"
       ]
      },
      {
       "output_type": "stream",
       "stream": "stdout",
       "text": [
        " \r",
        "[*****************56%*                 ]  181 of 324 complete"
       ]
      },
      {
       "output_type": "stream",
       "stream": "stdout",
       "text": [
        " \r",
        "[*****************56%*                 ]  182 of 324 complete"
       ]
      },
      {
       "output_type": "stream",
       "stream": "stdout",
       "text": [
        " \r",
        "[*****************56%*                 ]  183 of 324 complete"
       ]
      },
      {
       "output_type": "stream",
       "stream": "stdout",
       "text": [
        " \r",
        "[*****************57%**                ]  184 of 324 complete"
       ]
      },
      {
       "output_type": "stream",
       "stream": "stdout",
       "text": [
        " \r",
        "[*****************57%**                ]  185 of 324 complete"
       ]
      },
      {
       "output_type": "stream",
       "stream": "stdout",
       "text": [
        " \r",
        "[*****************57%**                ]  186 of 324 complete"
       ]
      },
      {
       "output_type": "stream",
       "stream": "stdout",
       "text": [
        " \r",
        "[*****************58%**                ]  187 of 324 complete"
       ]
      },
      {
       "output_type": "stream",
       "stream": "stdout",
       "text": [
        " \r",
        "[*****************58%**                ]  188 of 324 complete"
       ]
      },
      {
       "output_type": "stream",
       "stream": "stdout",
       "text": [
        " \r",
        "[*****************58%**                ]  189 of 324 complete"
       ]
      },
      {
       "output_type": "stream",
       "stream": "stdout",
       "text": [
        " \r",
        "[*****************59%**                ]  190 of 324 complete"
       ]
      },
      {
       "output_type": "stream",
       "stream": "stdout",
       "text": [
        " \r",
        "[*****************59%**                ]  191 of 324 complete"
       ]
      },
      {
       "output_type": "stream",
       "stream": "stdout",
       "text": [
        " \r",
        "[*****************59%**                ]  192 of 324 complete"
       ]
      },
      {
       "output_type": "stream",
       "stream": "stdout",
       "text": [
        " \r",
        "[*****************60%***               ]  193 of 324 complete"
       ]
      },
      {
       "output_type": "stream",
       "stream": "stdout",
       "text": [
        " \r",
        "[*****************60%***               ]  194 of 324 complete"
       ]
      },
      {
       "output_type": "stream",
       "stream": "stdout",
       "text": [
        " \r",
        "[*****************60%***               ]  195 of 324 complete"
       ]
      },
      {
       "output_type": "stream",
       "stream": "stdout",
       "text": [
        " \r",
        "[*****************60%***               ]  196 of 324 complete"
       ]
      },
      {
       "output_type": "stream",
       "stream": "stdout",
       "text": [
        " \r",
        "[*****************61%***               ]  197 of 324 complete"
       ]
      },
      {
       "output_type": "stream",
       "stream": "stdout",
       "text": [
        " \r",
        "[*****************61%***               ]  198 of 324 complete"
       ]
      },
      {
       "output_type": "stream",
       "stream": "stdout",
       "text": [
        " \r",
        "[*****************61%***               ]  199 of 324 complete"
       ]
      },
      {
       "output_type": "stream",
       "stream": "stdout",
       "text": [
        " \r",
        "[*****************62%****              ]  200 of 324 complete"
       ]
      },
      {
       "output_type": "stream",
       "stream": "stdout",
       "text": [
        " \r",
        "[*****************62%****              ]  201 of 324 complete"
       ]
      },
      {
       "output_type": "stream",
       "stream": "stdout",
       "text": [
        " \r",
        "[*****************62%****              ]  202 of 324 complete"
       ]
      },
      {
       "output_type": "stream",
       "stream": "stdout",
       "text": [
        " \r",
        "[*****************63%****              ]  203 of 324 complete"
       ]
      },
      {
       "output_type": "stream",
       "stream": "stdout",
       "text": [
        " \r",
        "[*****************63%****              ]  204 of 324 complete"
       ]
      },
      {
       "output_type": "stream",
       "stream": "stdout",
       "text": [
        " \r",
        "[*****************63%****              ]  205 of 324 complete"
       ]
      },
      {
       "output_type": "stream",
       "stream": "stdout",
       "text": [
        " \r",
        "[*****************64%****              ]  206 of 324 complete"
       ]
      },
      {
       "output_type": "stream",
       "stream": "stdout",
       "text": [
        " \r",
        "[*****************64%****              ]  207 of 324 complete"
       ]
      },
      {
       "output_type": "stream",
       "stream": "stdout",
       "text": [
        " \r",
        "[*****************64%****              ]  208 of 324 complete"
       ]
      },
      {
       "output_type": "stream",
       "stream": "stdout",
       "text": [
        " \r",
        "[*****************65%*****             ]  209 of 324 complete"
       ]
      },
      {
       "output_type": "stream",
       "stream": "stdout",
       "text": [
        " \r",
        "[*****************65%*****             ]  210 of 324 complete"
       ]
      },
      {
       "output_type": "stream",
       "stream": "stdout",
       "text": [
        " \r",
        "[*****************65%*****             ]  211 of 324 complete"
       ]
      },
      {
       "output_type": "stream",
       "stream": "stdout",
       "text": [
        " \r",
        "[*****************65%*****             ]  212 of 324 complete"
       ]
      },
      {
       "output_type": "stream",
       "stream": "stdout",
       "text": [
        " \r",
        "[*****************66%*****             ]  213 of 324 complete"
       ]
      },
      {
       "output_type": "stream",
       "stream": "stdout",
       "text": [
        " \r",
        "[*****************66%*****             ]  214 of 324 complete"
       ]
      },
      {
       "output_type": "stream",
       "stream": "stdout",
       "text": [
        " \r",
        "[*****************66%*****             ]  215 of 324 complete"
       ]
      },
      {
       "output_type": "stream",
       "stream": "stdout",
       "text": [
        " \r",
        "[*****************67%*****             ]  216 of 324 complete"
       ]
      },
      {
       "output_type": "stream",
       "stream": "stdout",
       "text": [
        " \r",
        "[*****************67%*****             ]  217 of 324 complete"
       ]
      },
      {
       "output_type": "stream",
       "stream": "stdout",
       "text": [
        " \r",
        "[*****************67%*****             ]  218 of 324 complete"
       ]
      },
      {
       "output_type": "stream",
       "stream": "stdout",
       "text": [
        " \r",
        "[*****************68%******            ]  219 of 324 complete"
       ]
      },
      {
       "output_type": "stream",
       "stream": "stdout",
       "text": [
        " \r",
        "[*****************68%******            ]  220 of 324 complete"
       ]
      },
      {
       "output_type": "stream",
       "stream": "stdout",
       "text": [
        " \r",
        "[*****************68%******            ]  221 of 324 complete"
       ]
      },
      {
       "output_type": "stream",
       "stream": "stdout",
       "text": [
        " \r",
        "[*****************69%******            ]  222 of 324 complete"
       ]
      },
      {
       "output_type": "stream",
       "stream": "stdout",
       "text": [
        " \r",
        "[*****************69%******            ]  223 of 324 complete"
       ]
      },
      {
       "output_type": "stream",
       "stream": "stdout",
       "text": [
        " \r",
        "[*****************69%******            ]  224 of 324 complete"
       ]
      },
      {
       "output_type": "stream",
       "stream": "stdout",
       "text": [
        " \r",
        "[*****************69%******            ]  225 of 324 complete"
       ]
      },
      {
       "output_type": "stream",
       "stream": "stdout",
       "text": [
        " \r",
        "[*****************70%*******           ]  226 of 324 complete"
       ]
      },
      {
       "output_type": "stream",
       "stream": "stdout",
       "text": [
        " \r",
        "[*****************70%*******           ]  227 of 324 complete"
       ]
      },
      {
       "output_type": "stream",
       "stream": "stdout",
       "text": [
        " \r",
        "[*****************70%*******           ]  228 of 324 complete"
       ]
      },
      {
       "output_type": "stream",
       "stream": "stdout",
       "text": [
        " \r",
        "[*****************71%*******           ]  229 of 324 complete"
       ]
      },
      {
       "output_type": "stream",
       "stream": "stdout",
       "text": [
        " \r",
        "[*****************71%*******           ]  230 of 324 complete"
       ]
      },
      {
       "output_type": "stream",
       "stream": "stdout",
       "text": [
        " \r",
        "[*****************71%*******           ]  231 of 324 complete"
       ]
      },
      {
       "output_type": "stream",
       "stream": "stdout",
       "text": [
        " \r",
        "[*****************72%*******           ]  232 of 324 complete"
       ]
      },
      {
       "output_type": "stream",
       "stream": "stdout",
       "text": [
        " \r",
        "[*****************72%*******           ]  233 of 324 complete"
       ]
      },
      {
       "output_type": "stream",
       "stream": "stdout",
       "text": [
        " \r",
        "[*****************72%*******           ]  234 of 324 complete"
       ]
      },
      {
       "output_type": "stream",
       "stream": "stdout",
       "text": [
        " \r",
        "[*****************73%********          ]  235 of 324 complete"
       ]
      },
      {
       "output_type": "stream",
       "stream": "stdout",
       "text": [
        " \r",
        "[*****************73%********          ]  236 of 324 complete"
       ]
      },
      {
       "output_type": "stream",
       "stream": "stdout",
       "text": [
        " \r",
        "[*****************73%********          ]  237 of 324 complete"
       ]
      },
      {
       "output_type": "stream",
       "stream": "stdout",
       "text": [
        " \r",
        "[*****************73%********          ]  238 of 324 complete"
       ]
      },
      {
       "output_type": "stream",
       "stream": "stdout",
       "text": [
        " \r",
        "[*****************74%********          ]  239 of 324 complete"
       ]
      },
      {
       "output_type": "stream",
       "stream": "stdout",
       "text": [
        " \r",
        "[*****************74%********          ]  240 of 324 complete"
       ]
      },
      {
       "output_type": "stream",
       "stream": "stdout",
       "text": [
        " \r",
        "[*****************74%********          ]  241 of 324 complete"
       ]
      },
      {
       "output_type": "stream",
       "stream": "stdout",
       "text": [
        " \r",
        "[*****************75%*********         ]  242 of 324 complete"
       ]
      },
      {
       "output_type": "stream",
       "stream": "stdout",
       "text": [
        " \r",
        "[*****************75%*********         ]  243 of 324 complete"
       ]
      },
      {
       "output_type": "stream",
       "stream": "stdout",
       "text": [
        " \r",
        "[*****************75%*********         ]  244 of 324 complete"
       ]
      },
      {
       "output_type": "stream",
       "stream": "stdout",
       "text": [
        " \r",
        "[*****************76%*********         ]  245 of 324 complete"
       ]
      },
      {
       "output_type": "stream",
       "stream": "stdout",
       "text": [
        " \r",
        "[*****************76%*********         ]  246 of 324 complete"
       ]
      },
      {
       "output_type": "stream",
       "stream": "stdout",
       "text": [
        " \r",
        "[*****************76%*********         ]  247 of 324 complete"
       ]
      },
      {
       "output_type": "stream",
       "stream": "stdout",
       "text": [
        " \r",
        "[*****************77%*********         ]  248 of 324 complete"
       ]
      },
      {
       "output_type": "stream",
       "stream": "stdout",
       "text": [
        " \r",
        "[*****************77%*********         ]  249 of 324 complete"
       ]
      },
      {
       "output_type": "stream",
       "stream": "stdout",
       "text": [
        " \r",
        "[*****************77%*********         ]  250 of 324 complete"
       ]
      },
      {
       "output_type": "stream",
       "stream": "stdout",
       "text": [
        " \r",
        "[*****************77%*********         ]  251 of 324 complete"
       ]
      },
      {
       "output_type": "stream",
       "stream": "stdout",
       "text": [
        " \r",
        "[*****************78%**********        ]  252 of 324 complete"
       ]
      },
      {
       "output_type": "stream",
       "stream": "stdout",
       "text": [
        " \r",
        "[*****************78%**********        ]  253 of 324 complete"
       ]
      },
      {
       "output_type": "stream",
       "stream": "stdout",
       "text": [
        " \r",
        "[*****************78%**********        ]  254 of 324 complete"
       ]
      },
      {
       "output_type": "stream",
       "stream": "stdout",
       "text": [
        " \r",
        "[*****************79%**********        ]  255 of 324 complete"
       ]
      },
      {
       "output_type": "stream",
       "stream": "stdout",
       "text": [
        " \r",
        "[*****************79%**********        ]  256 of 324 complete"
       ]
      },
      {
       "output_type": "stream",
       "stream": "stdout",
       "text": [
        " \r",
        "[*****************79%**********        ]  257 of 324 complete"
       ]
      },
      {
       "output_type": "stream",
       "stream": "stdout",
       "text": [
        " \r",
        "[*****************80%**********        ]  258 of 324 complete"
       ]
      },
      {
       "output_type": "stream",
       "stream": "stdout",
       "text": [
        " \r",
        "[*****************80%**********        ]  259 of 324 complete"
       ]
      },
      {
       "output_type": "stream",
       "stream": "stdout",
       "text": [
        " \r",
        "[*****************80%**********        ]  260 of 324 complete"
       ]
      },
      {
       "output_type": "stream",
       "stream": "stdout",
       "text": [
        " \r",
        "[*****************81%***********       ]  261 of 324 complete"
       ]
      },
      {
       "output_type": "stream",
       "stream": "stdout",
       "text": [
        " \r",
        "[*****************81%***********       ]  262 of 324 complete"
       ]
      },
      {
       "output_type": "stream",
       "stream": "stdout",
       "text": [
        " \r",
        "[*****************81%***********       ]  263 of 324 complete"
       ]
      },
      {
       "output_type": "stream",
       "stream": "stdout",
       "text": [
        " \r",
        "[*****************81%***********       ]  264 of 324 complete"
       ]
      },
      {
       "output_type": "stream",
       "stream": "stdout",
       "text": [
        " \r",
        "[*****************82%***********       ]  265 of 324 complete"
       ]
      },
      {
       "output_type": "stream",
       "stream": "stdout",
       "text": [
        " \r",
        "[*****************82%***********       ]  266 of 324 complete"
       ]
      },
      {
       "output_type": "stream",
       "stream": "stdout",
       "text": [
        " \r",
        "[*****************82%***********       ]  267 of 324 complete"
       ]
      },
      {
       "output_type": "stream",
       "stream": "stdout",
       "text": [
        " \r",
        "[*****************83%************      ]  268 of 324 complete"
       ]
      },
      {
       "output_type": "stream",
       "stream": "stdout",
       "text": [
        " \r",
        "[*****************83%************      ]  269 of 324 complete"
       ]
      },
      {
       "output_type": "stream",
       "stream": "stdout",
       "text": [
        " \r",
        "[*****************83%************      ]  270 of 324 complete"
       ]
      },
      {
       "output_type": "stream",
       "stream": "stdout",
       "text": [
        " \r",
        "[*****************84%************      ]  271 of 324 complete"
       ]
      },
      {
       "output_type": "stream",
       "stream": "stdout",
       "text": [
        " \r",
        "[*****************84%************      ]  272 of 324 complete"
       ]
      },
      {
       "output_type": "stream",
       "stream": "stdout",
       "text": [
        " \r",
        "[*****************84%************      ]  273 of 324 complete"
       ]
      },
      {
       "output_type": "stream",
       "stream": "stdout",
       "text": [
        " \r",
        "[*****************85%************      ]  274 of 324 complete"
       ]
      },
      {
       "output_type": "stream",
       "stream": "stdout",
       "text": [
        " \r",
        "[*****************85%************      ]  275 of 324 complete"
       ]
      },
      {
       "output_type": "stream",
       "stream": "stdout",
       "text": [
        " \r",
        "[*****************85%************      ]  276 of 324 complete"
       ]
      },
      {
       "output_type": "stream",
       "stream": "stdout",
       "text": [
        " \r",
        "[*****************85%************      ]  277 of 324 complete"
       ]
      },
      {
       "output_type": "stream",
       "stream": "stdout",
       "text": [
        " \r",
        "[*****************86%*************     ]  278 of 324 complete"
       ]
      },
      {
       "output_type": "stream",
       "stream": "stdout",
       "text": [
        " \r",
        "[*****************86%*************     ]  279 of 324 complete"
       ]
      },
      {
       "output_type": "stream",
       "stream": "stdout",
       "text": [
        " \r",
        "[*****************86%*************     ]  280 of 324 complete"
       ]
      },
      {
       "output_type": "stream",
       "stream": "stdout",
       "text": [
        " \r",
        "[*****************87%*************     ]  281 of 324 complete"
       ]
      },
      {
       "output_type": "stream",
       "stream": "stdout",
       "text": [
        " \r",
        "[*****************87%*************     ]  282 of 324 complete"
       ]
      },
      {
       "output_type": "stream",
       "stream": "stdout",
       "text": [
        " \r",
        "[*****************87%*************     ]  283 of 324 complete"
       ]
      },
      {
       "output_type": "stream",
       "stream": "stdout",
       "text": [
        " \r",
        "[*****************88%*************     ]  284 of 324 complete"
       ]
      },
      {
       "output_type": "stream",
       "stream": "stdout",
       "text": [
        " \r",
        "[*****************88%*************     ]  285 of 324 complete"
       ]
      },
      {
       "output_type": "stream",
       "stream": "stdout",
       "text": [
        " \r",
        "[*****************88%*************     ]  286 of 324 complete"
       ]
      },
      {
       "output_type": "stream",
       "stream": "stdout",
       "text": [
        " \r",
        "[*****************89%**************    ]  287 of 324 complete"
       ]
      },
      {
       "output_type": "stream",
       "stream": "stdout",
       "text": [
        " \r",
        "[*****************89%**************    ]  288 of 324 complete"
       ]
      },
      {
       "output_type": "stream",
       "stream": "stdout",
       "text": [
        " \r",
        "[*****************89%**************    ]  289 of 324 complete"
       ]
      },
      {
       "output_type": "stream",
       "stream": "stdout",
       "text": [
        " \r",
        "[*****************90%**************    ]  290 of 324 complete"
       ]
      },
      {
       "output_type": "stream",
       "stream": "stdout",
       "text": [
        " \r",
        "[*****************90%**************    ]  291 of 324 complete"
       ]
      },
      {
       "output_type": "stream",
       "stream": "stdout",
       "text": [
        " \r",
        "[*****************90%**************    ]  292 of 324 complete"
       ]
      },
      {
       "output_type": "stream",
       "stream": "stdout",
       "text": [
        " \r",
        "[*****************90%**************    ]  293 of 324 complete"
       ]
      },
      {
       "output_type": "stream",
       "stream": "stdout",
       "text": [
        " \r",
        "[*****************91%***************   ]  294 of 324 complete"
       ]
      },
      {
       "output_type": "stream",
       "stream": "stdout",
       "text": [
        " \r",
        "[*****************91%***************   ]  295 of 324 complete"
       ]
      },
      {
       "output_type": "stream",
       "stream": "stdout",
       "text": [
        " \r",
        "[*****************91%***************   ]  296 of 324 complete"
       ]
      },
      {
       "output_type": "stream",
       "stream": "stdout",
       "text": [
        " \r",
        "[*****************92%***************   ]  297 of 324 complete"
       ]
      },
      {
       "output_type": "stream",
       "stream": "stdout",
       "text": [
        " \r",
        "[*****************92%***************   ]  298 of 324 complete"
       ]
      },
      {
       "output_type": "stream",
       "stream": "stdout",
       "text": [
        " \r",
        "[*****************92%***************   ]  299 of 324 complete"
       ]
      },
      {
       "output_type": "stream",
       "stream": "stdout",
       "text": [
        " \r",
        "[*****************93%***************   ]  300 of 324 complete"
       ]
      },
      {
       "output_type": "stream",
       "stream": "stdout",
       "text": [
        " \r",
        "[*****************93%***************   ]  301 of 324 complete"
       ]
      },
      {
       "output_type": "stream",
       "stream": "stdout",
       "text": [
        " \r",
        "[*****************93%***************   ]  302 of 324 complete"
       ]
      },
      {
       "output_type": "stream",
       "stream": "stdout",
       "text": [
        " \r",
        "[*****************94%****************  ]  303 of 324 complete"
       ]
      },
      {
       "output_type": "stream",
       "stream": "stdout",
       "text": [
        " \r",
        "[*****************94%****************  ]  304 of 324 complete"
       ]
      },
      {
       "output_type": "stream",
       "stream": "stdout",
       "text": [
        " \r",
        "[*****************94%****************  ]  305 of 324 complete"
       ]
      },
      {
       "output_type": "stream",
       "stream": "stdout",
       "text": [
        " \r",
        "[*****************94%****************  ]  306 of 324 complete"
       ]
      },
      {
       "output_type": "stream",
       "stream": "stdout",
       "text": [
        " \r",
        "[*****************95%****************  ]  307 of 324 complete"
       ]
      },
      {
       "output_type": "stream",
       "stream": "stdout",
       "text": [
        " \r",
        "[*****************95%****************  ]  308 of 324 complete"
       ]
      },
      {
       "output_type": "stream",
       "stream": "stdout",
       "text": [
        " \r",
        "[*****************95%****************  ]  309 of 324 complete"
       ]
      },
      {
       "output_type": "stream",
       "stream": "stdout",
       "text": [
        " \r",
        "[*****************96%****************  ]  310 of 324 complete"
       ]
      },
      {
       "output_type": "stream",
       "stream": "stdout",
       "text": [
        " \r",
        "[*****************96%****************  ]  311 of 324 complete"
       ]
      },
      {
       "output_type": "stream",
       "stream": "stdout",
       "text": [
        " \r",
        "[*****************96%****************  ]  312 of 324 complete"
       ]
      },
      {
       "output_type": "stream",
       "stream": "stdout",
       "text": [
        " \r",
        "[*****************97%***************** ]  313 of 324 complete"
       ]
      },
      {
       "output_type": "stream",
       "stream": "stdout",
       "text": [
        " \r",
        "[*****************97%***************** ]  314 of 324 complete"
       ]
      },
      {
       "output_type": "stream",
       "stream": "stdout",
       "text": [
        " \r",
        "[*****************97%***************** ]  315 of 324 complete"
       ]
      },
      {
       "output_type": "stream",
       "stream": "stdout",
       "text": [
        " \r",
        "[*****************98%***************** ]  316 of 324 complete"
       ]
      },
      {
       "output_type": "stream",
       "stream": "stdout",
       "text": [
        " \r",
        "[*****************98%***************** ]  317 of 324 complete"
       ]
      },
      {
       "output_type": "stream",
       "stream": "stdout",
       "text": [
        " \r",
        "[*****************98%***************** ]  318 of 324 complete"
       ]
      },
      {
       "output_type": "stream",
       "stream": "stdout",
       "text": [
        " \r",
        "[*****************98%***************** ]  319 of 324 complete"
       ]
      },
      {
       "output_type": "stream",
       "stream": "stdout",
       "text": [
        " \r",
        "[*****************99%******************]  320 of 324 complete"
       ]
      },
      {
       "output_type": "stream",
       "stream": "stdout",
       "text": [
        " \r",
        "[*****************99%******************]  321 of 324 complete"
       ]
      },
      {
       "output_type": "stream",
       "stream": "stdout",
       "text": [
        " \r",
        "[*****************99%******************]  322 of 324 complete"
       ]
      },
      {
       "output_type": "stream",
       "stream": "stdout",
       "text": [
        " \r",
        "[****************100%******************]  323 of 324 complete"
       ]
      },
      {
       "output_type": "stream",
       "stream": "stdout",
       "text": [
        " \r",
        "[****************100%******************]  324 of 324 complete"
       ]
      },
      {
       "output_type": "stream",
       "stream": "stdout",
       "text": [
        " [[0 4]\n",
        " [0 8]]\n",
        "average accuracy and std: 0.666666666667 0.0\n",
        "average precison and std: 0.666666666667 0.0\n",
        "average recall and std: 1.0 0.0\n"
       ]
      }
     ],
     "prompt_number": 57
    },
    {
     "cell_type": "raw",
     "metadata": {},
     "source": [
      "pitch, accY give 0.8, 0.8, 1.0\n",
      "accZ gives 0.75, 0.73, 1.0\n",
      "quatY gives 0.66, 0.66, 1.0 (no negs)"
     ]
    },
    {
     "cell_type": "heading",
     "level": 1,
     "metadata": {},
     "source": [
      "Individual Time Warp"
     ]
    },
    {
     "cell_type": "code",
     "collapsed": false,
     "input": [
      "## Expert level samples ##\n",
      "df = pd.read_csv('../data/sensor/2015-03-01_11-13-22.csv')\n",
      "sample = 'Beau_normal'\n",
      "#df = pd.read_csv('../data/sensor/2015-03-01_11-11-36.csv')\n",
      "#sample = 'Beau_narrow'\n",
      "#df = pd.read_csv('../data/sensor/2015-03-01_11-13-51.csv')\n",
      "#sample = 'Beau_inward'\n",
      "#df = pd.read_csv('../data/sensor/2015-03-03_08-09-39.csv')\n",
      "#sample = 'Kelly_Rnormal'\n",
      "\n",
      "freq = 20.0\n",
      "female = 0\n",
      "numeric_features = ['motionUserAccelerationX', 'motionUserAccelerationY', 'motionUserAccelerationZ',\n",
      "                    'motionRotationRateX', 'motionRotationRateY', 'motionRotationRateZ',\n",
      "                    'accelerometerAccelerationX','accelerometerAccelerationY','accelerometerAccelerationZ',\n",
      "                    'gyroRotationX','gyroRotationY','gyroRotationZ','motionYaw','motionRoll','motionPitch',\n",
      "                    'motionQuaternionX','motionQuaternionY','motionQuaternionZ','motionQuaternionW']\n",
      "df_num = df[numeric_features]\n",
      "\n",
      "## Filter the data to separate the noise from the pushup signal ##\n",
      "# Bandpass filter\n",
      "lowcut = 0.5\n",
      "highcut =2.0\n",
      "order = 1\n",
      "df_filt = filter_features(df_num, numeric_features, lowcut, highcut, freq, order)\n",
      "# Plot\n",
      "#gr.plot_bandpass(df_num, df_filt, freq, lowcut, highcut, sample)\n",
      "\n",
      "# Look at feature correlations\n",
      "rolling_window = 30\n",
      "correls = pd.rolling_corr(df_filt, rolling_window)\n",
      "# Plot\n",
      "#gr.plot_corr(df_filt, correls, freq, sample)\n",
      "\n",
      "# Filter based on feature amplitudes\n",
      "cond1 = np.abs(correls.ix[:, 'accelerometerAccelerationX', 'accelerometerAccelerationY']) > 0.6\n",
      "cond2 = (np.abs(correls.ix[:, 'motionQuaternionY', 'motionQuaternionW'])+\n",
      "         np.abs(correls.ix[:, 'motionQuaternionX', 'motionQuaternionY'])+\n",
      "         np.abs(correls.ix[:, 'motionQuaternionY', 'motionQuaternionZ'])+\n",
      "         np.abs(correls.ix[:, 'gyroRotationX', 'gyroRotationZ'])) > 2.5\n",
      "# Trim the beginning 3 seconds and last 2 seconds of record\n",
      "cond3 = df_filt.index > int(freq*2.5) \n",
      "cond4 = df_filt.index < (df_filt.shape[0] - int(freq)) \n",
      "\n",
      "# Pushup repetition window\n",
      "pushup_window = df_filt[cond1 & cond2 & cond3 & cond4].index\n",
      "pushup_data = df_filt.ix[pushup_window[0]:pushup_window[-1]]\n",
      "time = df_filt.index.values / freq\n",
      "pushup_time = time[pushup_window[0]:(pushup_window[-1]+1)]\n",
      "pushup_time -= min(pushup_time)\n",
      "\n",
      "## Read in one sample to process and plot ##\n",
      "#df2 = pd.read_csv('../data/sensor/2015-03-03_08-11-21.csv')\n",
      "#sample2 = 'Kelly_Lnormal'\n",
      "df2 = pd.read_csv('../data/sensor/2015-03-01_11-11-36.csv')\n",
      "sample2 = 'Beau_narrow'\n",
      "df2_num = df2[numeric_features]\n",
      "female = 1\n",
      "df2_filt = filter_features(df2_num, numeric_features, lowcut, highcut, freq, order)\n",
      "correls2 = pd.rolling_corr(df2_filt, rolling_window)\n",
      "cond1 = np.abs(correls2.ix[:, 'accelerometerAccelerationX', 'accelerometerAccelerationY']) > 0.6\n",
      "cond2 = (np.abs(correls2.ix[:, 'motionQuaternionY', 'motionQuaternionW'])+\n",
      "         np.abs(correls2.ix[:, 'motionQuaternionX', 'motionQuaternionY'])+\n",
      "         np.abs(correls2.ix[:, 'motionQuaternionY', 'motionQuaternionZ'])+\n",
      "         np.abs(correls2.ix[:, 'gyroRotationX', 'gyroRotationZ'])) > 2.5\n",
      "# Trim the beginning 3 seconds and last 2 seconds of record\n",
      "cond3 = df2_filt.index > int(freq*2.5) \n",
      "cond4 = df2_filt.index < (df2_filt.shape[0] - int(freq)) \n",
      "pushup_window2 = df2_filt[cond1 & cond2 & cond3 & cond4].index\n",
      "pushup_data2 = df2_filt.ix[pushup_window2[0]:pushup_window2[-1]]\n",
      "time2 = df2_filt.index.values / freq\n",
      "pushup_time2 = time2[pushup_window2[0]:(pushup_window2[-1]+1)]\n",
      "pushup_time2 -= min(pushup_time2) + 2\n"
     ],
     "language": "python",
     "metadata": {},
     "outputs": [
      {
       "metadata": {},
       "output_type": "display_data",
       "png": "[encoded data removed]",
       "text": [
        "<matplotlib.figure.Figure at 0x10a5cd410>"
       ]
      }
     ],
     "prompt_number": 73
    },
    {
     "cell_type": "code",
     "collapsed": false,
     "input": [
      "m = KnnDtw()\n",
      "feature = 'motionYaw'\n",
      "distance = m._dtw_distance(pushup_data[feature], pushup_data2[feature])\n",
      "\n",
      "fig = plt.figure(figsize=(12,4))\n",
      "plt.plot(pushup_time, pushup_data[feature], label='BeauNorm')\n",
      "#fig = plt.figure(figsize=(12,4))\n",
      "plt.plot(pushup_time2, pushup_data2[feature], label='BeauNar')\n",
      "plt.title('DTW distance between BeauNorm and BeauNar is %.2f' % distance)\n",
      "plt.ylabel('Amplitude')\n",
      "plt.xlabel('Time')\n",
      "plt.legend()\n",
      "plt.savefig('BeauNorm_BeauNar_yaw_dist.png'"
     ],
     "language": "python",
     "metadata": {},
     "outputs": []
    },
    {
     "cell_type": "code",
     "collapsed": false,
     "input": [
      "m = KnnDtw(n_neighbors=1, max_warping_window=10)\n",
      "m.fit(x_train[::10], y_train[::10])\n",
      "label, proba = m.predict(x_test[::10])"
     ],
     "language": "python",
     "metadata": {},
     "outputs": []
    }
   ],
   "metadata": {}
  }
 ]
}